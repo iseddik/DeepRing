{
  "nbformat": 4,
  "nbformat_minor": 0,
  "metadata": {
    "colab": {
      "provenance": []
    },
    "kernelspec": {
      "name": "python3",
      "display_name": "Python 3"
    },
    "language_info": {
      "name": "python"
    }
  },
  "cells": [
    {
      "cell_type": "markdown",
      "source": [
        "# Lib"
      ],
      "metadata": {
        "id": "Q44YzbPDMhUL"
      }
    },
    {
      "cell_type": "code",
      "execution_count": 170,
      "metadata": {
        "id": "UsPdF0QGF-CI"
      },
      "outputs": [],
      "source": [
        "import numpy as np\n",
        "from tensorflow.keras.datasets import mnist\n",
        "import os\n",
        "from tensorflow.keras import layers, models\n",
        "import cv2\n",
        "import tensorflow as tf\n",
        "from matplotlib import pyplot as plt\n",
        "from tensorflow import keras\n",
        "from keras.models import *\n",
        "from keras.layers import *\n",
        "from keras.utils import *\n",
        "from tensorflow.keras.utils import to_categorical\n",
        "import pickle\n",
        "import hashlib\n",
        "import random"
      ]
    },
    {
      "cell_type": "code",
      "source": [
        "def identity(input_shape):\n",
        "  num_units = input_shape\n",
        "  custom_weights = np.eye(num_units)\n",
        "  custom_biases = np.zeros((num_units,))\n",
        "  custom_layer = tf.keras.layers.Dense(\n",
        "      units=num_units,\n",
        "      use_bias=True,\n",
        "      kernel_initializer=tf.constant_initializer(custom_weights),\n",
        "      bias_initializer=tf.constant_initializer(custom_biases),\n",
        "      activation=tf.keras.activations.linear\n",
        "  )\n",
        "  input_shape = (None, num_units)\n",
        "  custom_layer.build(input_shape)\n",
        "  return custom_layer"
      ],
      "metadata": {
        "id": "wPRRtAHbZhXa"
      },
      "execution_count": 2,
      "outputs": []
    },
    {
      "cell_type": "markdown",
      "source": [
        "# Classes"
      ],
      "metadata": {
        "id": "TsYtv2YTMkQX"
      }
    },
    {
      "cell_type": "code",
      "source": [
        "class Block:\n",
        "\n",
        "  def __init__(self, id, previousHash, layer, layer_aft):\n",
        "    self.id = id\n",
        "    self.previousHash = previousHash\n",
        "    self.layer = layer\n",
        "    self.wi, self.bi = layer.get_weights()\n",
        "    self.acti = tf.keras.activations.get(layer.activation.__name__)\n",
        "    self.wi_aft, self.bi_aft = layer_aft.get_weights()\n",
        "    self.acti_aft = tf.keras.activations.get(layer_aft.activation.__name__)\n",
        "\n",
        "    hash1 = self.previousHash.encode() if self.id != 0 else \"msg\"\n",
        "    hash2 = hashlib.sha256(hashlib.sha256(self.wi.tobytes()).hexdigest().encode() + hashlib.sha256(self.bi.tobytes()).hexdigest().encode()).hexdigest().encode()\n",
        "    hash3 = hashlib.sha256(hashlib.sha256(self.wi_aft.tobytes()).hexdigest().encode() + hashlib.sha256(self.bi_aft.tobytes()).hexdigest().encode()).hexdigest().encode()\n",
        "    self.hash = hashlib.sha256(hash1 + hash2 + hash3).hexdigest() if self.id != 0 else hashlib.sha256(hash2 + hash3).hexdigest()\n",
        "\n",
        "\n",
        "  # This method compute the output of the layer's block\n",
        "  def output(self, input):\n",
        "    x = input.reshape((1, input.shape[0])) if len(input.shape) != 2 else None\n",
        "    input = input if len(input.shape) == 2 else x\n",
        "    return self.acti(tf.matmul(input, self.wi) + self.bi)"
      ],
      "metadata": {
        "id": "NeIuJEqWGSYI"
      },
      "execution_count": 88,
      "outputs": []
    },
    {
      "cell_type": "code",
      "source": [
        "class Ouroboros(Block):\n",
        "  def __init__(self, id, previousHash, layer, layer_aft):\n",
        "    super().__init__(id, previousHash, layer, layer_aft)\n",
        "    self.origHash = None\n",
        "    self.authenticity = (self.previousHash == self.origHash)\n",
        "    self.flag = False\n",
        "\n",
        "  def output(self, input):\n",
        "    if self.authenticity:\n",
        "      if self.flag == True: print(\"Query Mode: \\n\")\n",
        "      return input\n",
        "    else:\n",
        "      print(\"Tracking Mode! \\n\")"
      ],
      "metadata": {
        "id": "CM6zfBYpGuvE"
      },
      "execution_count": 89,
      "outputs": []
    },
    {
      "cell_type": "code",
      "source": [
        "class DeepRing():\n",
        "  def __init__(self, model, input, label):\n",
        "    self.model = model\n",
        "    self.label = label\n",
        "    self.input = input\n",
        "    self.blockchain = {}\n",
        "    self.blockchain = self.setup()\n",
        "\n",
        "  def setup(self):\n",
        "    sh = self.input.shape[1] if len(self.input.shape) == 2 else self.input.shape[0]\n",
        "    self.blockchain[0] = Ouroboros(0, None, identity(sh), self.model.layers[0])\n",
        "\n",
        "    for j, i in enumerate(range(1, len(self.model.layers)+1)):\n",
        "      self.blockchain[i] = Block(i, self.blockchain[i-1].hash, self.model.layers[j],\n",
        "                              self.model.layers[j+1] if j != len(self.model.layers)-1 else self.model.layers[0] )\n",
        "\n",
        "    self.blockchain[0].previousHash = self.blockchain[len(self.model.layers)].hash\n",
        "    self.blockchain[0].origHash = self.blockchain[len(self.model.layers)].hash\n",
        "    return self.blockchain\n",
        "\n",
        "  def inference(self):\n",
        "    self.blockchain[0].flag = False\n",
        "    start = self.blockchain[0].output(self.input)\n",
        "\n",
        "    for j, i in enumerate(range(1, len(self.blockchain))):\n",
        "      self.blockchain[i] = Block(i, self.blockchain[i-1].hash, self.model.layers[j],\n",
        "                              self.model.layers[j+1] if j != len(self.model.layers)-1 else self.model.layers[0] )\n",
        "      start = self.blockchain[i].output(start)\n",
        "\n",
        "    self.blockchain[0].previousHash = self.blockchain[len(self.model.layers)].hash\n",
        "    self.blockchain[0].authenticity = (self.blockchain[0].origHash == self.blockchain[0].previousHash)\n",
        "    self.blockchain[0].flag = True\n",
        "\n",
        "    x = tf.one_hot(tf.argmax(start, axis=1), self.input.shape[0])\n",
        "    return self.blockchain[0].output(list(np.where(x == 1)[1]))\n",
        "\n",
        "\n",
        "  def evaluate(self):\n",
        "    self.inference()\n",
        "    return self.model.evaluate(self.input, self.label) if self.blockchain[0].authenticity else None"
      ],
      "metadata": {
        "id": "qI6ECfwaIWJ0"
      },
      "execution_count": 177,
      "outputs": []
    },
    {
      "cell_type": "markdown",
      "source": [
        "# Test"
      ],
      "metadata": {
        "id": "cCPSr9gbMnpP"
      }
    },
    {
      "cell_type": "markdown",
      "source": [
        "## Prepare model and data"
      ],
      "metadata": {
        "id": "UGxH8Xt5MrRV"
      }
    },
    {
      "cell_type": "code",
      "source": [
        "(x_train, y_train), (x_test, y_test) = mnist.load_data()"
      ],
      "metadata": {
        "id": "yTv9vb12KdxE",
        "colab": {
          "base_uri": "https://localhost:8080/"
        },
        "outputId": "5ee208d2-dec3-4458-d083-44b7352ea46a"
      },
      "execution_count": 166,
      "outputs": [
        {
          "output_type": "stream",
          "name": "stdout",
          "text": [
            "Downloading data from https://storage.googleapis.com/tensorflow/tf-keras-datasets/mnist.npz\n",
            "11490434/11490434 [==============================] - 2s 0us/step\n"
          ]
        }
      ]
    },
    {
      "cell_type": "code",
      "source": [
        "x_train = x_train.astype('float32')\n",
        "x_train = np.reshape(x_train, (x_train.shape[0], 28*28))\n",
        "x_test = x_test.astype('float32')\n",
        "x_test = np.reshape(x_test, (x_test.shape[0], 28*28))"
      ],
      "metadata": {
        "id": "_5PA80BuTWcS"
      },
      "execution_count": 167,
      "outputs": []
    },
    {
      "cell_type": "code",
      "source": [
        "x_train = x_train / 255.0\n",
        "x_test = x_test / 255.0"
      ],
      "metadata": {
        "id": "T4CdxjEvTZf5"
      },
      "execution_count": 168,
      "outputs": []
    },
    {
      "cell_type": "code",
      "source": [
        "def createModel():\n",
        "  num_classes = 10\n",
        "\n",
        "  model = models.Sequential()\n",
        "  model.add(layers.Dense(900, activation='relu', input_shape=(784,)))\n",
        "  model.add(layers.Dense(600, activation='relu'))\n",
        "  model.add(layers.Dense(300, activation='relu'))\n",
        "  model.add(layers.Dense(100, activation='relu'))\n",
        "  model.add(layers.Dense(num_classes, activation='softmax'))\n",
        "\n",
        "  model.compile(optimizer='adam', loss='sparse_categorical_crossentropy', metrics=['accuracy'])\n",
        "  return model"
      ],
      "metadata": {
        "id": "g2G-wTXgKizG"
      },
      "execution_count": 171,
      "outputs": []
    },
    {
      "cell_type": "code",
      "source": [
        "def fitModel(model, x_train, y_train, x_test, y_test):\n",
        "  batch_size = 64\n",
        "  epochs = 10\n",
        "  model.fit(x_train, y_train, batch_size=batch_size, epochs=epochs, validation_data=(x_test, y_test))"
      ],
      "metadata": {
        "id": "HPsv5bC9T313"
      },
      "execution_count": 172,
      "outputs": []
    },
    {
      "cell_type": "code",
      "source": [
        "model = createModel()\n",
        "fitModel(model, x_train, y_train, x_test, y_test)"
      ],
      "metadata": {
        "colab": {
          "base_uri": "https://localhost:8080/"
        },
        "id": "LLBoJ4RiUExv",
        "outputId": "3b3651a5-e820-4be8-cf5d-f2b756c36166"
      },
      "execution_count": 173,
      "outputs": [
        {
          "output_type": "stream",
          "name": "stdout",
          "text": [
            "Epoch 1/10\n",
            "938/938 [==============================] - 29s 29ms/step - loss: 0.2028 - accuracy: 0.9372 - val_loss: 0.1259 - val_accuracy: 0.9613\n",
            "Epoch 2/10\n",
            "938/938 [==============================] - 28s 30ms/step - loss: 0.0915 - accuracy: 0.9724 - val_loss: 0.1124 - val_accuracy: 0.9693\n",
            "Epoch 3/10\n",
            "938/938 [==============================] - 27s 28ms/step - loss: 0.0638 - accuracy: 0.9810 - val_loss: 0.0687 - val_accuracy: 0.9792\n",
            "Epoch 4/10\n",
            "938/938 [==============================] - 27s 29ms/step - loss: 0.0501 - accuracy: 0.9849 - val_loss: 0.0742 - val_accuracy: 0.9787\n",
            "Epoch 5/10\n",
            "938/938 [==============================] - 26s 27ms/step - loss: 0.0436 - accuracy: 0.9865 - val_loss: 0.0857 - val_accuracy: 0.9775\n",
            "Epoch 6/10\n",
            "938/938 [==============================] - 27s 29ms/step - loss: 0.0331 - accuracy: 0.9899 - val_loss: 0.0898 - val_accuracy: 0.9758\n",
            "Epoch 7/10\n",
            "938/938 [==============================] - 29s 31ms/step - loss: 0.0291 - accuracy: 0.9914 - val_loss: 0.0904 - val_accuracy: 0.9766\n",
            "Epoch 8/10\n",
            "938/938 [==============================] - 27s 28ms/step - loss: 0.0270 - accuracy: 0.9917 - val_loss: 0.0813 - val_accuracy: 0.9786\n",
            "Epoch 9/10\n",
            "938/938 [==============================] - 27s 29ms/step - loss: 0.0227 - accuracy: 0.9933 - val_loss: 0.0875 - val_accuracy: 0.9802\n",
            "Epoch 10/10\n",
            "938/938 [==============================] - 27s 28ms/step - loss: 0.0225 - accuracy: 0.9936 - val_loss: 0.0902 - val_accuracy: 0.9811\n"
          ]
        }
      ]
    },
    {
      "cell_type": "markdown",
      "source": [
        "## Test tempering attack on the DeepRing model"
      ],
      "metadata": {
        "id": "4n0ZxMrwM0yx"
      }
    },
    {
      "cell_type": "code",
      "source": [
        "def simpleAttack(layer):\n",
        "  Wi, _ = layer.get_weights()\n",
        "  noise = np.random.normal(0, 1, size=Wi.shape)\n",
        "  Wi += noise\n",
        "  layer.set_weights([Wi, _])"
      ],
      "metadata": {
        "id": "lS134sn9dBLd"
      },
      "execution_count": 174,
      "outputs": []
    },
    {
      "cell_type": "markdown",
      "source": [
        "Setup the DeepRing model"
      ],
      "metadata": {
        "id": "ALIDZIHIWgbm"
      }
    },
    {
      "cell_type": "code",
      "source": [
        "my_model = DeepRing(model, x_train[2], y_train[2])\n",
        "y_train[2]"
      ],
      "metadata": {
        "colab": {
          "base_uri": "https://localhost:8080/"
        },
        "id": "Z9I8v8zPWbOg",
        "outputId": "477d06bd-2381-4349-b34b-7c55dad68028"
      },
      "execution_count": 181,
      "outputs": [
        {
          "output_type": "execute_result",
          "data": {
            "text/plain": [
              "4"
            ]
          },
          "metadata": {},
          "execution_count": 181
        }
      ]
    },
    {
      "cell_type": "markdown",
      "source": [
        "Compute inference"
      ],
      "metadata": {
        "id": "bvKz2IwqXSiD"
      }
    },
    {
      "cell_type": "code",
      "source": [
        "my_model.inference()"
      ],
      "metadata": {
        "colab": {
          "base_uri": "https://localhost:8080/"
        },
        "id": "n9NWRqo1Vt6Z",
        "outputId": "025a9cb0-dbe0-4259-da60-8f560446e7b5"
      },
      "execution_count": 182,
      "outputs": [
        {
          "output_type": "stream",
          "name": "stdout",
          "text": [
            "Query Mode: \n",
            "\n"
          ]
        },
        {
          "output_type": "execute_result",
          "data": {
            "text/plain": [
              "[4]"
            ]
          },
          "metadata": {},
          "execution_count": 182
        }
      ]
    },
    {
      "cell_type": "markdown",
      "source": [
        "Apply tempering attack on the DeepRing model"
      ],
      "metadata": {
        "id": "0NL4MOPLXc4B"
      }
    },
    {
      "cell_type": "code",
      "source": [
        "simpleAttack(my_model.blockchain[2].layer)"
      ],
      "metadata": {
        "id": "SlOgXcE2Kw2M"
      },
      "execution_count": 183,
      "outputs": []
    },
    {
      "cell_type": "markdown",
      "source": [
        "Compute inference in the attack case"
      ],
      "metadata": {
        "id": "apyQIlapXr7Q"
      }
    },
    {
      "cell_type": "code",
      "source": [
        "my_model.inference()"
      ],
      "metadata": {
        "colab": {
          "base_uri": "https://localhost:8080/"
        },
        "id": "Y_pm-YlRM8Ac",
        "outputId": "55a64022-212e-4158-c7ff-ca042d554c68"
      },
      "execution_count": 184,
      "outputs": [
        {
          "output_type": "stream",
          "name": "stdout",
          "text": [
            "Tracking Mode! \n",
            "\n"
          ]
        }
      ]
    }
  ]
}